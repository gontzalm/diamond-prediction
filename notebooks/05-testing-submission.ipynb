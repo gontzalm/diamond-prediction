{
 "metadata": {
  "language_info": {
   "codemirror_mode": {
    "name": "ipython",
    "version": 3
   },
   "file_extension": ".py",
   "mimetype": "text/x-python",
   "name": "python",
   "nbconvert_exporter": "python",
   "pygments_lexer": "ipython3",
   "version": "3.8.5-final"
  },
  "orig_nbformat": 2,
  "kernelspec": {
   "name": "Python 3.8.5 64-bit ('ih': conda)",
   "display_name": "Python 3.8.5 64-bit ('ih': conda)",
   "metadata": {
    "interpreter": {
     "hash": "db56cb6177e5951e88d6c3886ef9779f2cfb897b769aee449d1838a128c23dd7"
    }
   }
  }
 },
 "nbformat": 4,
 "nbformat_minor": 2,
 "cells": [
  {
   "source": [
    "## Testing and Submission\n",
    "Testing of the final model and submission of the predictions to kaggle.com."
   ],
   "cell_type": "markdown",
   "metadata": {}
  },
  {
   "cell_type": "code",
   "execution_count": 1,
   "metadata": {},
   "outputs": [],
   "source": [
    "import sys\n",
    "sys.path.append(\"..\")"
   ]
  },
  {
   "cell_type": "code",
   "execution_count": 2,
   "metadata": {},
   "outputs": [],
   "source": [
    "from sklearn.ensemble import RandomForestRegressor\n",
    "from sklearn.metrics import mean_squared_error\n",
    "from sklearn.pipeline import Pipeline\n",
    "from src.preprocessors import PREPROCESSORS\n",
    "from src.load import load_diamonds\n",
    "from src.predict import predict_diamonds\n",
    "from src.splitters import split_train_test, split_X_y"
   ]
  },
  {
   "cell_type": "code",
   "execution_count": 3,
   "metadata": {},
   "outputs": [],
   "source": [
    "# Load and split the dataset\n",
    "diamonds = load_diamonds()\n",
    "diamonds_train, diamonds_test = split_train_test(diamonds)\n",
    "X_train, y_train = split_X_y(diamonds_train)\n",
    "X_test, y_test = split_X_y(diamonds_test)"
   ]
  },
  {
   "cell_type": "code",
   "execution_count": 4,
   "metadata": {
    "tags": []
   },
   "outputs": [
    {
     "output_type": "stream",
     "name": "stdout",
     "text": "Model&#39;s RMSE: 550.6580897135277\n"
    }
   ],
   "source": [
    "# Train and test the model\n",
    "reg = Pipeline([\n",
    "    (\"preprocessor\", PREPROCESSORS[\"adder_all_ord_enc\"]),\n",
    "    (\"regressor\", RandomForestRegressor(n_estimators=2000, n_jobs=-1))\n",
    "])\n",
    "\n",
    "reg.fit(X_train, y_train)\n",
    "y_pred = reg.predict(X_test)\n",
    "rmse = mean_squared_error(y_test, y_pred, squared=False)\n",
    "print(f\"Model's RMSE: {rmse}\")"
   ]
  },
  {
   "cell_type": "code",
   "execution_count": 5,
   "metadata": {},
   "outputs": [],
   "source": [
    "# Submit the predictions, now training the model with the whole dataset\n",
    "reg = Pipeline([\n",
    "    (\"preprocessor\", PREPROCESSORS[\"adder_all_ord_enc\"]),\n",
    "    (\"regressor\", RandomForestRegressor(n_estimators=2000, n_jobs=-1))\n",
    "])\n",
    "\n",
    "predict_diamonds(reg, 4)"
   ]
  }
 ]
}