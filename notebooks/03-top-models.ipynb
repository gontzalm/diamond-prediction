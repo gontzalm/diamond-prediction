{
 "metadata": {
  "language_info": {
   "codemirror_mode": {
    "name": "ipython",
    "version": 3
   },
   "file_extension": ".py",
   "mimetype": "text/x-python",
   "name": "python",
   "nbconvert_exporter": "python",
   "pygments_lexer": "ipython3",
   "version": "3.8.5-final"
  },
  "orig_nbformat": 2,
  "kernelspec": {
   "name": "Python 3.8.5 64-bit",
   "display_name": "Python 3.8.5 64-bit",
   "metadata": {
    "interpreter": {
     "hash": "db56cb6177e5951e88d6c3886ef9779f2cfb897b769aee449d1838a128c23dd7"
    }
   }
  }
 },
 "nbformat": 4,
 "nbformat_minor": 2,
 "cells": [
  {
   "source": [
    "## Top Models\n",
    "- Train many quick and dirty models\n",
    "- Measure and compare performance using K-Fold cross-validation\n",
    "- Shortlist the top four most promising models"
   ],
   "cell_type": "markdown",
   "metadata": {}
  },
  {
   "cell_type": "code",
   "execution_count": 1,
   "metadata": {},
   "outputs": [],
   "source": [
    "import sys\n",
    "sys.path.append(\"..\")"
   ]
  },
  {
   "cell_type": "code",
   "execution_count": 2,
   "metadata": {},
   "outputs": [],
   "source": [
    "import numpy as np\n",
    "from itertools import product\n",
    "from sklearn.compose import ColumnTransformer\n",
    "from sklearn.pipeline import Pipeline\n",
    "from sklearn.preprocessing import StandardScaler, OrdinalEncoder, OneHotEncoder\n",
    "from src.load import load_diamonds\n",
    "from src.conf import CATEGORIES, CATEGORIES_DEPTH_TABLE\n",
    "from src.splitters import split_train_test, split_X_y\n",
    "from src.transformers import AttributeAdder, CatEncoder"
   ]
  },
  {
   "cell_type": "code",
   "execution_count": 3,
   "metadata": {},
   "outputs": [],
   "source": [
    "# Load and split dataset\n",
    "diamonds = load_diamonds()\n",
    "diamonds, _ = split_train_test(diamonds)\n",
    "X_train, y_train = split_X_y(diamonds)"
   ]
  },
  {
   "cell_type": "code",
   "execution_count": 5,
   "metadata": {},
   "outputs": [],
   "source": [
    "# Define different pipelines for the categories\n",
    "num_pipe = {\n",
    "    \"adder\": Pipeline([\n",
    "        (\"attr_adder\", AttributeAdder()),\n",
    "        (\"std_scaler\", StandardScaler())\n",
    "    ]),\n",
    "\n",
    "    \"no_adder\": StandardScaler()\n",
    "}\n",
    "\n",
    "depth_pipe = {\n",
    "    \"ord_enc\": Pipeline([\n",
    "        (\"cat_enc\", CatEncoder(\"depth\")),\n",
    "        (\"ordinal_enc\", OrdinalEncoder(categories=CATEGORIES_DEPTH_TABLE)),\n",
    "        (\"std_scaler\", StandardScaler())\n",
    "    ]),\n",
    "\n",
    "    \"1_hot_enc\": Pipeline([\n",
    "        (\"cat_enc\", CatEncoder(\"depth\")),\n",
    "        (\"1_hot_enc\", OneHotEncoder(drop=\"first\"))\n",
    "    ])\n",
    "}\n",
    "\n",
    "table_pipe = {\n",
    "    \"ord_enc\": Pipeline([\n",
    "        (\"cat_enc\", CatEncoder(\"table\")),\n",
    "        (\"ordinal_enc\", OrdinalEncoder(categories=CATEGORIES_DEPTH_TABLE)),\n",
    "        (\"std_scaler\", StandardScaler())\n",
    "    ]),\n",
    "\n",
    "    \"1_hot_enc\": Pipeline([\n",
    "        (\"cat_enc\", CatEncoder(\"table\")),\n",
    "        (\"1_hot_enc\", OneHotEncoder(drop=\"first\"))\n",
    "    ])\n",
    "}\n",
    "\n",
    "other_cat_pipe = {\n",
    "    \"ord_enc\": Pipeline([\n",
    "        (\"ordinal_enc\", OrdinalEncoder(categories=CATEGORIES)),\n",
    "        (\"std_scaler\", StandardScaler())\n",
    "    ]),\n",
    "\n",
    "    \"1_hot_enc\": OneHotEncoder(drop=\"first\")\n",
    "}"
   ]
  },
  {
   "cell_type": "code",
   "execution_count": 6,
   "metadata": {},
   "outputs": [],
   "source": [
    "# Define different preprocessors\n",
    "preprocessors = {\n",
    "    \"no_depth_no_table\": ColumnTransformer([\n",
    "        (\"num\", StandardScaler(), [\"carat\", \"x\", \"y\", \"z\"]),\n",
    "        (\"cat\", other_cat_pipe[\"1_hot_enc\"], [\"cut\", \"color\", \"clarity\"]),\n",
    "    ])\n",
    "}\n",
    "\n",
    "\n",
    "for add, enc in product(num_pipe.keys(), depth_pipe.keys()):\n",
    "    k = \"_\".join([add, enc])\n",
    "    preprocessors[k] = ColumnTransformer([\n",
    "        (\"num\", num_pipe[add], [\"carat\", \"x\", \"y\", \"z\"]),\n",
    "        (\"depth\", depth_pipe[enc], \"depth\"),\n",
    "        (\"table\", table_pipe[enc], \"table\"),\n",
    "        (\"cat\", other_cat_pipe[enc], [\"cut\", \"color\", \"clarity\"]),\n",
    "    ])"
   ]
  },
  {
   "cell_type": "code",
   "execution_count": 8,
   "metadata": {
    "tags": []
   },
   "outputs": [
    {
     "output_type": "stream",
     "name": "stdout",
     "text": "--------------------------------------RMSE--------------------------------------\nLinear Regression with preprocessor no_depth_no_table: 1124.589384067514\nLinear Regression with preprocessor adder_ord_enc: 1189.9444030775858\nLinear Regression with preprocessor adder_1_hot_enc: 1102.988928015618\nLinear Regression with preprocessor no_adder_ord_enc: 1208.7301046963994\nLinear Regression with preprocessor no_adder_1_hot_enc: 1122.1424922001447\n"
    }
   ],
   "source": [
    "# Short test with LinearRegression\n",
    "from sklearn.linear_model import LinearRegression\n",
    "from sklearn.metrics import mean_squared_error\n",
    "\n",
    "linear_models = {}\n",
    "for k in preprocessors.keys():\n",
    "    name = f\"Linear Regression with preprocessor {k}\"\n",
    "    linear_models[name] = Pipeline([\n",
    "        (\"preprocessor\", preprocessors[k]),\n",
    "        (\"regressor\", LinearRegression())\n",
    "    ])\n",
    "\n",
    "print(\"RMSE\".center(80, \"-\"))\n",
    "for model_name, model in linear_models.items():\n",
    "    model.fit(X_train, y_train)\n",
    "    y_pred = model.predict(X_train)\n",
    "    rmse = mean_squared_error(y_train, y_pred, squared=False)\n",
    "    print(f\"{model_name}: {rmse}\")"
   ]
  },
  {
   "cell_type": "code",
   "execution_count": null,
   "metadata": {
    "tags": []
   },
   "outputs": [],
   "source": [
    "# Best one is adder_1_hot_enc (for Linear Regression)"
   ]
  },
  {
   "cell_type": "code",
   "execution_count": 9,
   "metadata": {},
   "outputs": [],
   "source": [
    "# Try other models, this time with k-fold cross validation\n",
    "from sklearn.model_selection import cross_val_score\n",
    "from sklearn.linear_model import Ridge, ElasticNet\n",
    "from sklearn.neighbors import KNeighborsRegressor\n",
    "from sklearn.svm import SVR\n",
    "from sklearn.tree import DecisionTreeRegressor\n",
    "from sklearn.ensemble import RandomForestRegressor\n",
    "\n",
    "models = {}\n",
    "for prep_name, preprocessor in preprocessors.items():\n",
    "    models[prep_name] = {\n",
    "        \"linear\": Pipeline([\n",
    "            (\"preprocessor\", preprocessor),\n",
    "            (\"regressor\", LinearRegression())\n",
    "        ]),\n",
    "    \n",
    "        \"ridge\": Pipeline([\n",
    "            (\"preprocessor\", preprocessor),\n",
    "            (\"regressor\", Ridge())\n",
    "        ]),\n",
    "    \n",
    "        \"elasticnet\": Pipeline([\n",
    "            (\"preprocessor\", preprocessor),\n",
    "            (\"regressor\", ElasticNet())\n",
    "        ]),\n",
    "    \n",
    "        \"kneighbors\": Pipeline([\n",
    "            (\"preprocessor\", preprocessor),\n",
    "            (\"regressor\", KNeighborsRegressor()) \n",
    "        ]),\n",
    "    \n",
    "        \"tree\": Pipeline([\n",
    "            (\"preprocessor\", preprocessor),\n",
    "            (\"regressor\", DecisionTreeRegressor()) \n",
    "        ]),\n",
    "    \n",
    "        \"forest\": Pipeline([\n",
    "            (\"preprocessor\", preprocessor),\n",
    "            (\"regressor\", RandomForestRegressor())\n",
    "        ])\n",
    "    }"
   ]
  },
  {
   "cell_type": "code",
   "execution_count": 10,
   "metadata": {
    "tags": []
   },
   "outputs": [
    {
     "output_type": "stream",
     "name": "stdout",
     "text": "_______________________________no_depth_no_table________________________________\n-------------------------------------linear-------------------------------------\nTraining set, RMSE: 1124.59\nCross-val, mean RMSE: 1200.75\nCross-val, std RMSE: 65.65\n-------------------------------------ridge--------------------------------------\nTraining set, RMSE: 1124.61\nCross-val, mean RMSE: 1194.93\nCross-val, std RMSE: 59.83\n-----------------------------------elasticnet-----------------------------------\nTraining set, RMSE: 1738.71\nCross-val, mean RMSE: 1741.37\nCross-val, std RMSE: 2.46\n-----------------------------------kneighbors-----------------------------------\nTraining set, RMSE: 562.19\nCross-val, mean RMSE: 799.77\nCross-val, std RMSE: 7.76\n--------------------------------------tree--------------------------------------\nTraining set, RMSE: 17.09\nCross-val, mean RMSE: 975.74\nCross-val, std RMSE: 4.31\n-------------------------------------forest-------------------------------------\nTraining set, RMSE: 244.85\nCross-val, mean RMSE: 721.36\nCross-val, std RMSE: 20.51\n_________________________________adder_ord_enc__________________________________\n-------------------------------------linear-------------------------------------\nTraining set, RMSE: 1189.94\nCross-val, mean RMSE: 2396.51\nCross-val, std RMSE: 1200.81\n-------------------------------------ridge--------------------------------------\nTraining set, RMSE: 1190.28\nCross-val, mean RMSE: 1550.72\nCross-val, std RMSE: 352.45\n-----------------------------------elasticnet-----------------------------------\nTraining set, RMSE: 1492.45\nCross-val, mean RMSE: 1498.51\nCross-val, std RMSE: 7.71\n-----------------------------------kneighbors-----------------------------------\nTraining set, RMSE: 580.17\nCross-val, mean RMSE: 772.36\nCross-val, std RMSE: 7.19\n--------------------------------------tree--------------------------------------\nTraining set, RMSE: 15.78\nCross-val, mean RMSE: 802.61\nCross-val, std RMSE: 9.00\n-------------------------------------forest-------------------------------------\nTraining set, RMSE: 209.02\nCross-val, mean RMSE: 592.75\nCross-val, std RMSE: 12.82\n________________________________adder_1_hot_enc_________________________________\n-------------------------------------linear-------------------------------------\nTraining set, RMSE: 1102.99\nCross-val, mean RMSE: 2180.50\nCross-val, std RMSE: 1069.14\n-------------------------------------ridge--------------------------------------\nTraining set, RMSE: 1103.35\nCross-val, mean RMSE: 1409.58\nCross-val, std RMSE: 295.85\n-----------------------------------elasticnet-----------------------------------\nTraining set, RMSE: 1629.93\nCross-val, mean RMSE: 1635.01\nCross-val, std RMSE: 3.73\n-----------------------------------kneighbors-----------------------------------\nTraining set, RMSE: 661.43\nCross-val, mean RMSE: 898.44\nCross-val, std RMSE: 7.39\n--------------------------------------tree--------------------------------------\nTraining set, RMSE: 15.78\nCross-val, mean RMSE: 994.23\nCross-val, std RMSE: 2.60\n-------------------------------------forest-------------------------------------\nTraining set, RMSE: 247.84\nCross-val, mean RMSE: 735.33\nCross-val, std RMSE: 19.73\n________________________________no_adder_ord_enc________________________________\n-------------------------------------linear-------------------------------------\nTraining set, RMSE: 1208.73\nCross-val, mean RMSE: 1301.53\nCross-val, std RMSE: 84.37\n-------------------------------------ridge--------------------------------------\nTraining set, RMSE: 1208.73\nCross-val, mean RMSE: 1293.51\nCross-val, std RMSE: 76.36\n-----------------------------------elasticnet-----------------------------------\nTraining set, RMSE: 1617.52\nCross-val, mean RMSE: 1620.90\nCross-val, std RMSE: 1.01\n-----------------------------------kneighbors-----------------------------------\nTraining set, RMSE: 581.39\nCross-val, mean RMSE: 785.77\nCross-val, std RMSE: 8.83\n--------------------------------------tree--------------------------------------\nTraining set, RMSE: 15.78\nCross-val, mean RMSE: 798.97\nCross-val, std RMSE: 3.34\n-------------------------------------forest-------------------------------------\nTraining set, RMSE: 210.55\nCross-val, mean RMSE: 588.61\nCross-val, std RMSE: 11.09\n_______________________________no_adder_1_hot_enc_______________________________\n-------------------------------------linear-------------------------------------\nTraining set, RMSE: 1122.14\nCross-val, mean RMSE: 1188.75\nCross-val, std RMSE: 55.35\n-------------------------------------ridge--------------------------------------\nTraining set, RMSE: 1122.57\nCross-val, mean RMSE: 1160.82\nCross-val, std RMSE: 26.81\n-----------------------------------elasticnet-----------------------------------\nTraining set, RMSE: 1736.99\nCross-val, mean RMSE: 1739.79\nCross-val, std RMSE: 2.64\n-----------------------------------kneighbors-----------------------------------\n"
    },
    {
     "output_type": "error",
     "ename": "TerminatedWorkerError",
     "evalue": "A worker process managed by the executor was unexpectedly terminated. This could be caused by a segmentation fault while calling the function or by an excessive memory usage causing the Operating System to kill the worker.\n\nThe exit codes of the workers are {SIGKILL(-9)}",
     "traceback": [
      "\u001b[0;31m---------------------------------------------------------------------------\u001b[0m",
      "\u001b[0;31mTerminatedWorkerError\u001b[0m                     Traceback (most recent call last)",
      "\u001b[0;32m&lt;ipython-input-10-1c19cbe12b65&gt;\u001b[0m in \u001b[0;36m&lt;module&gt;\u001b[0;34m\u001b[0m\n\u001b[1;32m      6\u001b[0m         \u001b[0my_pred\u001b[0m \u001b[0;34m=\u001b[0m \u001b[0mmodel\u001b[0m\u001b[0;34m.\u001b[0m\u001b[0mpredict\u001b[0m\u001b[0;34m(\u001b[0m\u001b[0mX_train\u001b[0m\u001b[0;34m)\u001b[0m\u001b[0;34m\u001b[0m\u001b[0;34m\u001b[0m\u001b[0m\n\u001b[1;32m      7\u001b[0m         \u001b[0mrmse\u001b[0m \u001b[0;34m=\u001b[0m \u001b[0mmean_squared_error\u001b[0m\u001b[0;34m(\u001b[0m\u001b[0my_train\u001b[0m\u001b[0;34m,\u001b[0m \u001b[0my_pred\u001b[0m\u001b[0;34m,\u001b[0m \u001b[0msquared\u001b[0m\u001b[0;34m=\u001b[0m\u001b[0;32mFalse\u001b[0m\u001b[0;34m)\u001b[0m\u001b[0;34m\u001b[0m\u001b[0;34m\u001b[0m\u001b[0m\n\u001b[0;32m----&gt; 8\u001b[0;31m         \u001b[0mscores\u001b[0m \u001b[0;34m=\u001b[0m \u001b[0mcross_val_score\u001b[0m\u001b[0;34m(\u001b[0m\u001b[0mmodel\u001b[0m\u001b[0;34m,\u001b[0m \u001b[0mX_train\u001b[0m\u001b[0;34m,\u001b[0m \u001b[0my_train\u001b[0m\u001b[0;34m,\u001b[0m \u001b[0mscoring\u001b[0m\u001b[0;34m=\u001b[0m\u001b[0;34m&quot;neg_root_mean_squared_error&quot;\u001b[0m\u001b[0;34m,\u001b[0m \u001b[0mcv\u001b[0m\u001b[0;34m=\u001b[0m\u001b[0;36m2\u001b[0m\u001b[0;34m,\u001b[0m \u001b[0mn_jobs\u001b[0m\u001b[0;34m=\u001b[0m\u001b[0;34m-\u001b[0m\u001b[0;36m1\u001b[0m\u001b[0;34m)\u001b[0m\u001b[0;34m\u001b[0m\u001b[0;34m\u001b[0m\u001b[0m\n\u001b[0m\u001b[1;32m      9\u001b[0m         \u001b[0mscores\u001b[0m \u001b[0;34m=\u001b[0m \u001b[0;34m-\u001b[0m\u001b[0mscores\u001b[0m\u001b[0;34m\u001b[0m\u001b[0;34m\u001b[0m\u001b[0m\n\u001b[1;32m     10\u001b[0m         \u001b[0mprint\u001b[0m\u001b[0;34m(\u001b[0m\u001b[0;34mf&quot;Training set, RMSE: {rmse:.2f}&quot;\u001b[0m\u001b[0;34m)\u001b[0m\u001b[0;34m\u001b[0m\u001b[0;34m\u001b[0m\u001b[0m\n",
      "\u001b[0;32m~/miniconda3/envs/ih/lib/python3.8/site-packages/sklearn/utils/validation.py\u001b[0m in \u001b[0;36minner_f\u001b[0;34m(*args, **kwargs)\u001b[0m\n\u001b[1;32m     70\u001b[0m                           FutureWarning)\n\u001b[1;32m     71\u001b[0m         \u001b[0mkwargs\u001b[0m\u001b[0;34m.\u001b[0m\u001b[0mupdate\u001b[0m\u001b[0;34m(\u001b[0m\u001b[0;34m{\u001b[0m\u001b[0mk\u001b[0m\u001b[0;34m:\u001b[0m \u001b[0marg\u001b[0m \u001b[0;32mfor\u001b[0m \u001b[0mk\u001b[0m\u001b[0;34m,\u001b[0m \u001b[0marg\u001b[0m \u001b[0;32min\u001b[0m \u001b[0mzip\u001b[0m\u001b[0;34m(\u001b[0m\u001b[0msig\u001b[0m\u001b[0;34m.\u001b[0m\u001b[0mparameters\u001b[0m\u001b[0;34m,\u001b[0m \u001b[0margs\u001b[0m\u001b[0;34m)\u001b[0m\u001b[0;34m}\u001b[0m\u001b[0;34m)\u001b[0m\u001b[0;34m\u001b[0m\u001b[0;34m\u001b[0m\u001b[0m\n\u001b[0;32m---&gt; 72\u001b[0;31m         \u001b[0;32mreturn\u001b[0m \u001b[0mf\u001b[0m\u001b[0;34m(\u001b[0m\u001b[0;34m**\u001b[0m\u001b[0mkwargs\u001b[0m\u001b[0;34m)\u001b[0m\u001b[0;34m\u001b[0m\u001b[0;34m\u001b[0m\u001b[0m\n\u001b[0m\u001b[1;32m     73\u001b[0m     \u001b[0;32mreturn\u001b[0m \u001b[0minner_f\u001b[0m\u001b[0;34m\u001b[0m\u001b[0;34m\u001b[0m\u001b[0m\n\u001b[1;32m     74\u001b[0m \u001b[0;34m\u001b[0m\u001b[0m\n",
      "\u001b[0;32m~/miniconda3/envs/ih/lib/python3.8/site-packages/sklearn/model_selection/_validation.py\u001b[0m in \u001b[0;36mcross_val_score\u001b[0;34m(estimator, X, y, groups, scoring, cv, n_jobs, verbose, fit_params, pre_dispatch, error_score)\u001b[0m\n\u001b[1;32m    399\u001b[0m     \u001b[0mscorer\u001b[0m \u001b[0;34m=\u001b[0m \u001b[0mcheck_scoring\u001b[0m\u001b[0;34m(\u001b[0m\u001b[0mestimator\u001b[0m\u001b[0;34m,\u001b[0m \u001b[0mscoring\u001b[0m\u001b[0;34m=\u001b[0m\u001b[0mscoring\u001b[0m\u001b[0;34m)\u001b[0m\u001b[0;34m\u001b[0m\u001b[0;34m\u001b[0m\u001b[0m\n\u001b[1;32m    400\u001b[0m \u001b[0;34m\u001b[0m\u001b[0m\n\u001b[0;32m--&gt; 401\u001b[0;31m     cv_results = cross_validate(estimator=estimator, X=X, y=y, groups=groups,\n\u001b[0m\u001b[1;32m    402\u001b[0m                                 \u001b[0mscoring\u001b[0m\u001b[0;34m=\u001b[0m\u001b[0;34m{\u001b[0m\u001b[0;34m&#39;score&#39;\u001b[0m\u001b[0;34m:\u001b[0m \u001b[0mscorer\u001b[0m\u001b[0;34m}\u001b[0m\u001b[0;34m,\u001b[0m \u001b[0mcv\u001b[0m\u001b[0;34m=\u001b[0m\u001b[0mcv\u001b[0m\u001b[0;34m,\u001b[0m\u001b[0;34m\u001b[0m\u001b[0;34m\u001b[0m\u001b[0m\n\u001b[1;32m    403\u001b[0m                                 \u001b[0mn_jobs\u001b[0m\u001b[0;34m=\u001b[0m\u001b[0mn_jobs\u001b[0m\u001b[0;34m,\u001b[0m \u001b[0mverbose\u001b[0m\u001b[0;34m=\u001b[0m\u001b[0mverbose\u001b[0m\u001b[0;34m,\u001b[0m\u001b[0;34m\u001b[0m\u001b[0;34m\u001b[0m\u001b[0m\n",
      "\u001b[0;32m~/miniconda3/envs/ih/lib/python3.8/site-packages/sklearn/utils/validation.py\u001b[0m in \u001b[0;36minner_f\u001b[0;34m(*args, **kwargs)\u001b[0m\n\u001b[1;32m     70\u001b[0m                           FutureWarning)\n\u001b[1;32m     71\u001b[0m         \u001b[0mkwargs\u001b[0m\u001b[0;34m.\u001b[0m\u001b[0mupdate\u001b[0m\u001b[0;34m(\u001b[0m\u001b[0;34m{\u001b[0m\u001b[0mk\u001b[0m\u001b[0;34m:\u001b[0m \u001b[0marg\u001b[0m \u001b[0;32mfor\u001b[0m \u001b[0mk\u001b[0m\u001b[0;34m,\u001b[0m \u001b[0marg\u001b[0m \u001b[0;32min\u001b[0m \u001b[0mzip\u001b[0m\u001b[0;34m(\u001b[0m\u001b[0msig\u001b[0m\u001b[0;34m.\u001b[0m\u001b[0mparameters\u001b[0m\u001b[0;34m,\u001b[0m \u001b[0margs\u001b[0m\u001b[0;34m)\u001b[0m\u001b[0;34m}\u001b[0m\u001b[0;34m)\u001b[0m\u001b[0;34m\u001b[0m\u001b[0;34m\u001b[0m\u001b[0m\n\u001b[0;32m---&gt; 72\u001b[0;31m         \u001b[0;32mreturn\u001b[0m \u001b[0mf\u001b[0m\u001b[0;34m(\u001b[0m\u001b[0;34m**\u001b[0m\u001b[0mkwargs\u001b[0m\u001b[0;34m)\u001b[0m\u001b[0;34m\u001b[0m\u001b[0;34m\u001b[0m\u001b[0m\n\u001b[0m\u001b[1;32m     73\u001b[0m     \u001b[0;32mreturn\u001b[0m \u001b[0minner_f\u001b[0m\u001b[0;34m\u001b[0m\u001b[0;34m\u001b[0m\u001b[0m\n\u001b[1;32m     74\u001b[0m \u001b[0;34m\u001b[0m\u001b[0m\n",
      "\u001b[0;32m~/miniconda3/envs/ih/lib/python3.8/site-packages/sklearn/model_selection/_validation.py\u001b[0m in \u001b[0;36mcross_validate\u001b[0;34m(estimator, X, y, groups, scoring, cv, n_jobs, verbose, fit_params, pre_dispatch, return_train_score, return_estimator, error_score)\u001b[0m\n\u001b[1;32m    240\u001b[0m     parallel = Parallel(n_jobs=n_jobs, verbose=verbose,\n\u001b[1;32m    241\u001b[0m                         pre_dispatch=pre_dispatch)\n\u001b[0;32m--&gt; 242\u001b[0;31m     scores = parallel(\n\u001b[0m\u001b[1;32m    243\u001b[0m         delayed(_fit_and_score)(\n\u001b[1;32m    244\u001b[0m             \u001b[0mclone\u001b[0m\u001b[0;34m(\u001b[0m\u001b[0mestimator\u001b[0m\u001b[0;34m)\u001b[0m\u001b[0;34m,\u001b[0m \u001b[0mX\u001b[0m\u001b[0;34m,\u001b[0m \u001b[0my\u001b[0m\u001b[0;34m,\u001b[0m \u001b[0mscorers\u001b[0m\u001b[0;34m,\u001b[0m \u001b[0mtrain\u001b[0m\u001b[0;34m,\u001b[0m \u001b[0mtest\u001b[0m\u001b[0;34m,\u001b[0m \u001b[0mverbose\u001b[0m\u001b[0;34m,\u001b[0m \u001b[0;32mNone\u001b[0m\u001b[0;34m,\u001b[0m\u001b[0;34m\u001b[0m\u001b[0;34m\u001b[0m\u001b[0m\n",
      "\u001b[0;32m~/miniconda3/envs/ih/lib/python3.8/site-packages/joblib/parallel.py\u001b[0m in \u001b[0;36m__call__\u001b[0;34m(self, iterable)\u001b[0m\n\u001b[1;32m   1040\u001b[0m \u001b[0;34m\u001b[0m\u001b[0m\n\u001b[1;32m   1041\u001b[0m             \u001b[0;32mwith\u001b[0m \u001b[0mself\u001b[0m\u001b[0;34m.\u001b[0m\u001b[0m_backend\u001b[0m\u001b[0;34m.\u001b[0m\u001b[0mretrieval_context\u001b[0m\u001b[0;34m(\u001b[0m\u001b[0;34m)\u001b[0m\u001b[0;34m:\u001b[0m\u001b[0;34m\u001b[0m\u001b[0;34m\u001b[0m\u001b[0m\n\u001b[0;32m-&gt; 1042\u001b[0;31m                 \u001b[0mself\u001b[0m\u001b[0;34m.\u001b[0m\u001b[0mretrieve\u001b[0m\u001b[0;34m(\u001b[0m\u001b[0;34m)\u001b[0m\u001b[0;34m\u001b[0m\u001b[0;34m\u001b[0m\u001b[0m\n\u001b[0m\u001b[1;32m   1043\u001b[0m             \u001b[0;31m# Make sure that we get a last message telling us we are done\u001b[0m\u001b[0;34m\u001b[0m\u001b[0;34m\u001b[0m\u001b[0;34m\u001b[0m\u001b[0m\n\u001b[1;32m   1044\u001b[0m             \u001b[0melapsed_time\u001b[0m \u001b[0;34m=\u001b[0m \u001b[0mtime\u001b[0m\u001b[0;34m.\u001b[0m\u001b[0mtime\u001b[0m\u001b[0;34m(\u001b[0m\u001b[0;34m)\u001b[0m \u001b[0;34m-\u001b[0m \u001b[0mself\u001b[0m\u001b[0;34m.\u001b[0m\u001b[0m_start_time\u001b[0m\u001b[0;34m\u001b[0m\u001b[0;34m\u001b[0m\u001b[0m\n",
      "\u001b[0;32m~/miniconda3/envs/ih/lib/python3.8/site-packages/joblib/parallel.py\u001b[0m in \u001b[0;36mretrieve\u001b[0;34m(self)\u001b[0m\n\u001b[1;32m    919\u001b[0m             \u001b[0;32mtry\u001b[0m\u001b[0;34m:\u001b[0m\u001b[0;34m\u001b[0m\u001b[0;34m\u001b[0m\u001b[0m\n\u001b[1;32m    920\u001b[0m                 \u001b[0;32mif\u001b[0m \u001b[0mgetattr\u001b[0m\u001b[0;34m(\u001b[0m\u001b[0mself\u001b[0m\u001b[0;34m.\u001b[0m\u001b[0m_backend\u001b[0m\u001b[0;34m,\u001b[0m \u001b[0;34m&#39;supports_timeout&#39;\u001b[0m\u001b[0;34m,\u001b[0m \u001b[0;32mFalse\u001b[0m\u001b[0;34m)\u001b[0m\u001b[0;34m:\u001b[0m\u001b[0;34m\u001b[0m\u001b[0;34m\u001b[0m\u001b[0m\n\u001b[0;32m--&gt; 921\u001b[0;31m                     \u001b[0mself\u001b[0m\u001b[0;34m.\u001b[0m\u001b[0m_output\u001b[0m\u001b[0;34m.\u001b[0m\u001b[0mextend\u001b[0m\u001b[0;34m(\u001b[0m\u001b[0mjob\u001b[0m\u001b[0;34m.\u001b[0m\u001b[0mget\u001b[0m\u001b[0;34m(\u001b[0m\u001b[0mtimeout\u001b[0m\u001b[0;34m=\u001b[0m\u001b[0mself\u001b[0m\u001b[0;34m.\u001b[0m\u001b[0mtimeout\u001b[0m\u001b[0;34m)\u001b[0m\u001b[0;34m)\u001b[0m\u001b[0;34m\u001b[0m\u001b[0;34m\u001b[0m\u001b[0m\n\u001b[0m\u001b[1;32m    922\u001b[0m                 \u001b[0;32melse\u001b[0m\u001b[0;34m:\u001b[0m\u001b[0;34m\u001b[0m\u001b[0;34m\u001b[0m\u001b[0m\n\u001b[1;32m    923\u001b[0m                     \u001b[0mself\u001b[0m\u001b[0;34m.\u001b[0m\u001b[0m_output\u001b[0m\u001b[0;34m.\u001b[0m\u001b[0mextend\u001b[0m\u001b[0;34m(\u001b[0m\u001b[0mjob\u001b[0m\u001b[0;34m.\u001b[0m\u001b[0mget\u001b[0m\u001b[0;34m(\u001b[0m\u001b[0;34m)\u001b[0m\u001b[0;34m)\u001b[0m\u001b[0;34m\u001b[0m\u001b[0;34m\u001b[0m\u001b[0m\n",
      "\u001b[0;32m~/miniconda3/envs/ih/lib/python3.8/site-packages/joblib/_parallel_backends.py\u001b[0m in \u001b[0;36mwrap_future_result\u001b[0;34m(future, timeout)\u001b[0m\n\u001b[1;32m    540\u001b[0m         AsyncResults.get from multiprocessing.&quot;&quot;&quot;\n\u001b[1;32m    541\u001b[0m         \u001b[0;32mtry\u001b[0m\u001b[0;34m:\u001b[0m\u001b[0;34m\u001b[0m\u001b[0;34m\u001b[0m\u001b[0m\n\u001b[0;32m--&gt; 542\u001b[0;31m             \u001b[0;32mreturn\u001b[0m \u001b[0mfuture\u001b[0m\u001b[0;34m.\u001b[0m\u001b[0mresult\u001b[0m\u001b[0;34m(\u001b[0m\u001b[0mtimeout\u001b[0m\u001b[0;34m=\u001b[0m\u001b[0mtimeout\u001b[0m\u001b[0;34m)\u001b[0m\u001b[0;34m\u001b[0m\u001b[0;34m\u001b[0m\u001b[0m\n\u001b[0m\u001b[1;32m    543\u001b[0m         \u001b[0;32mexcept\u001b[0m \u001b[0mCfTimeoutError\u001b[0m \u001b[0;32mas\u001b[0m \u001b[0me\u001b[0m\u001b[0;34m:\u001b[0m\u001b[0;34m\u001b[0m\u001b[0;34m\u001b[0m\u001b[0m\n\u001b[1;32m    544\u001b[0m             \u001b[0;32mraise\u001b[0m \u001b[0mTimeoutError\u001b[0m \u001b[0;32mfrom\u001b[0m \u001b[0me\u001b[0m\u001b[0;34m\u001b[0m\u001b[0;34m\u001b[0m\u001b[0m\n",
      "\u001b[0;32m~/miniconda3/envs/ih/lib/python3.8/concurrent/futures/_base.py\u001b[0m in \u001b[0;36mresult\u001b[0;34m(self, timeout)\u001b[0m\n\u001b[1;32m    437\u001b[0m                 \u001b[0;32mraise\u001b[0m \u001b[0mCancelledError\u001b[0m\u001b[0;34m(\u001b[0m\u001b[0;34m)\u001b[0m\u001b[0;34m\u001b[0m\u001b[0;34m\u001b[0m\u001b[0m\n\u001b[1;32m    438\u001b[0m             \u001b[0;32melif\u001b[0m \u001b[0mself\u001b[0m\u001b[0;34m.\u001b[0m\u001b[0m_state\u001b[0m \u001b[0;34m==\u001b[0m \u001b[0mFINISHED\u001b[0m\u001b[0;34m:\u001b[0m\u001b[0;34m\u001b[0m\u001b[0;34m\u001b[0m\u001b[0m\n\u001b[0;32m--&gt; 439\u001b[0;31m                 \u001b[0;32mreturn\u001b[0m \u001b[0mself\u001b[0m\u001b[0;34m.\u001b[0m\u001b[0m__get_result\u001b[0m\u001b[0;34m(\u001b[0m\u001b[0;34m)\u001b[0m\u001b[0;34m\u001b[0m\u001b[0;34m\u001b[0m\u001b[0m\n\u001b[0m\u001b[1;32m    440\u001b[0m             \u001b[0;32melse\u001b[0m\u001b[0;34m:\u001b[0m\u001b[0;34m\u001b[0m\u001b[0;34m\u001b[0m\u001b[0m\n\u001b[1;32m    441\u001b[0m                 \u001b[0;32mraise\u001b[0m \u001b[0mTimeoutError\u001b[0m\u001b[0;34m(\u001b[0m\u001b[0;34m)\u001b[0m\u001b[0;34m\u001b[0m\u001b[0;34m\u001b[0m\u001b[0m\n",
      "\u001b[0;32m~/miniconda3/envs/ih/lib/python3.8/concurrent/futures/_base.py\u001b[0m in \u001b[0;36m__get_result\u001b[0;34m(self)\u001b[0m\n\u001b[1;32m    386\u001b[0m     \u001b[0;32mdef\u001b[0m \u001b[0m__get_result\u001b[0m\u001b[0;34m(\u001b[0m\u001b[0mself\u001b[0m\u001b[0;34m)\u001b[0m\u001b[0;34m:\u001b[0m\u001b[0;34m\u001b[0m\u001b[0;34m\u001b[0m\u001b[0m\n\u001b[1;32m    387\u001b[0m         \u001b[0;32mif\u001b[0m \u001b[0mself\u001b[0m\u001b[0;34m.\u001b[0m\u001b[0m_exception\u001b[0m\u001b[0;34m:\u001b[0m\u001b[0;34m\u001b[0m\u001b[0;34m\u001b[0m\u001b[0m\n\u001b[0;32m--&gt; 388\u001b[0;31m             \u001b[0;32mraise\u001b[0m \u001b[0mself\u001b[0m\u001b[0;34m.\u001b[0m\u001b[0m_exception\u001b[0m\u001b[0;34m\u001b[0m\u001b[0;34m\u001b[0m\u001b[0m\n\u001b[0m\u001b[1;32m    389\u001b[0m         \u001b[0;32melse\u001b[0m\u001b[0;34m:\u001b[0m\u001b[0;34m\u001b[0m\u001b[0;34m\u001b[0m\u001b[0m\n\u001b[1;32m    390\u001b[0m             \u001b[0;32mreturn\u001b[0m \u001b[0mself\u001b[0m\u001b[0;34m.\u001b[0m\u001b[0m_result\u001b[0m\u001b[0;34m\u001b[0m\u001b[0;34m\u001b[0m\u001b[0m\n",
      "\u001b[0;31mTerminatedWorkerError\u001b[0m: A worker process managed by the executor was unexpectedly terminated. This could be caused by a segmentation fault while calling the function or by an excessive memory usage causing the Operating System to kill the worker.\n\nThe exit codes of the workers are {SIGKILL(-9)}"
     ]
    }
   ],
   "source": [
    "for prep_name, model_dict in models.items():\n",
    "    print(f\"{prep_name}\".center(80, \"_\"))\n",
    "    for model_name, model in model_dict.items():\n",
    "        print(f\"{model_name}\".center(80, \"-\"))\n",
    "        model.fit(X_train, y_train)\n",
    "        y_pred = model.predict(X_train)\n",
    "        rmse = mean_squared_error(y_train, y_pred, squared=False)\n",
    "        scores = cross_val_score(model, X_train, y_train, scoring=\"neg_root_mean_squared_error\", cv=2, n_jobs=-1)\n",
    "        scores = -scores\n",
    "        print(f\"Training set, RMSE: {rmse:.2f}\")\n",
    "        print(f\"Cross-val, mean RMSE: {scores.mean():.2f}\")\n",
    "        print(f\"Cross-val, std RMSE: {scores.std():.2f}\")"
   ]
  },
  {
   "source": [
    "### Conclusions\n",
    "The most promising models are "
   ],
   "cell_type": "markdown",
   "metadata": {}
  }
 ]
}