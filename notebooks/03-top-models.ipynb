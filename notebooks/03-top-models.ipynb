{
 "metadata": {
  "language_info": {
   "codemirror_mode": {
    "name": "ipython",
    "version": 3
   },
   "file_extension": ".py",
   "mimetype": "text/x-python",
   "name": "python",
   "nbconvert_exporter": "python",
   "pygments_lexer": "ipython3",
   "version": "3.8.5-final"
  },
  "orig_nbformat": 2,
  "kernelspec": {
   "name": "Python 3.8.5 64-bit ('ih': conda)",
   "display_name": "Python 3.8.5 64-bit ('ih': conda)",
   "metadata": {
    "interpreter": {
     "hash": "db56cb6177e5951e88d6c3886ef9779f2cfb897b769aee449d1838a128c23dd7"
    }
   }
  }
 },
 "nbformat": 4,
 "nbformat_minor": 2,
 "cells": [
  {
   "source": [
    "## Top Models\n",
    "- Train many quick and dirty models\n",
    "- Measure and compare performance using K-Fold cross-validation\n",
    "- Shortlist the top four most promising models"
   ],
   "cell_type": "markdown",
   "metadata": {}
  },
  {
   "cell_type": "code",
   "execution_count": null,
   "metadata": {},
   "outputs": [],
   "source": [
    "import sys\n",
    "sys.path.append(\"..\")"
   ]
  },
  {
   "cell_type": "code",
   "execution_count": null,
   "metadata": {},
   "outputs": [],
   "source": [
    "from src.topmodels import top_models"
   ]
  },
  {
   "cell_type": "code",
   "execution_count": null,
   "metadata": {
    "tags": []
   },
   "outputs": [],
   "source": [
    "# Try different models using k-fold cross validation and looking at the error on the test set too\n",
    "top_models()"
   ]
  },
  {
   "source": [
    "### Conclusions\n",
    "The most promising models are "
   ],
   "cell_type": "markdown",
   "metadata": {}
  }
 ]
}