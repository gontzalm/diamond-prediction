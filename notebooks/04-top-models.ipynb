{
 "metadata": {
  "language_info": {
   "codemirror_mode": {
    "name": "ipython",
    "version": 3
   },
   "file_extension": ".py",
   "mimetype": "text/x-python",
   "name": "python",
   "nbconvert_exporter": "python",
   "pygments_lexer": "ipython3",
   "version": "3.8.5-final"
  },
  "orig_nbformat": 2,
  "kernelspec": {
   "name": "Python 3.8.5 64-bit",
   "display_name": "Python 3.8.5 64-bit",
   "metadata": {
    "interpreter": {
     "hash": "db56cb6177e5951e88d6c3886ef9779f2cfb897b769aee449d1838a128c23dd7"
    }
   }
  }
 },
 "nbformat": 4,
 "nbformat_minor": 2,
 "cells": [
  {
   "source": [
    "## Top Models\n",
    "- Train many quick and dirty models\n",
    "- Measure and compare performance using K-Fold cross-validation\n",
    "- Shortlist the top four most promising models"
   ],
   "cell_type": "markdown",
   "metadata": {}
  },
  {
   "cell_type": "code",
   "execution_count": 1,
   "metadata": {},
   "outputs": [],
   "source": [
    "import sys\n",
    "sys.path.append(\"..\")"
   ]
  },
  {
   "cell_type": "code",
   "execution_count": 2,
   "metadata": {},
   "outputs": [],
   "source": [
    "import numpy as np\n",
    "from sklearn.compose import ColumnTransformer\n",
    "from sklearn.pipeline import Pipeline\n",
    "from sklearn.preprocessing import StandardScaler, OrdinalEncoder\n",
    "from src.load import load_diamonds\n",
    "from src.conf import CATEGORIES, CATEGORIES_DEPTH_TABLE\n",
    "from src.splitters import split_train_test, split_X_y\n",
    "from src.transformers import CatEncoder"
   ]
  },
  {
   "cell_type": "code",
   "execution_count": 3,
   "metadata": {},
   "outputs": [],
   "source": [
    "# Load and split dataset\n",
    "diamonds = load_diamonds()\n",
    "diamonds, _ = split_train_test(diamonds)\n",
    "X_train, y_train = split_X_y(diamonds)"
   ]
  },
  {
   "cell_type": "code",
   "execution_count": 4,
   "metadata": {},
   "outputs": [],
   "source": [
    "# Define preprocessor\n",
    "depth_pipe = Pipeline([\n",
    "    (\"cat_enc\", CatEncoder(\"depth\")),\n",
    "    (\"ordinal_enc\", OrdinalEncoder(categories=CATEGORIES_DEPTH_TABLE))\n",
    "])\n",
    "\n",
    "table_pipe = Pipeline([\n",
    "    (\"cat_enc\", CatEncoder(\"table\")),\n",
    "    (\"ordinal_enc\", OrdinalEncoder(categories=CATEGORIES_DEPTH_TABLE))\n",
    "])\n",
    "\n",
    "preprocessor_1 = ColumnTransformer([\n",
    "        (\"num\", StandardScaler(), [\"carat\", \"x\", \"y\", \"z\"]),\n",
    "        (\"cat\", OrdinalEncoder(categories=CATEGORIES), [\"cut\", \"color\", \"clarity\"]),\n",
    "        (\"depth\", depth_pipe, \"depth\"),\n",
    "        (\"table\", table_pipe, \"table\")\n",
    "])\n",
    "\n",
    "preprocessor_2 = ColumnTransformer([\n",
    "        (\"num\", StandardScaler(), [\"carat\", \"x\", \"y\", \"z\"]),\n",
    "        (\"cat\", OrdinalEncoder(categories=CATEGORIES), [\"cut\", \"color\", \"clarity\"]),\n",
    "])"
   ]
  },
  {
   "cell_type": "code",
   "execution_count": 5,
   "metadata": {},
   "outputs": [],
   "source": [
    "# Short test with LinearRegression\n",
    "from sklearn.linear_model import LinearRegression\n",
    "from sklearn.metrics import mean_squared_error\n",
    "\n",
    "lin_reg_1 = Pipeline([\n",
    "    (\"preprocessor\", preprocessor_1),\n",
    "    (\"regressor\", LinearRegression()) \n",
    "])\n",
    "\n",
    "lin_reg_2 = Pipeline([\n",
    "    (\"preprocessor\", preprocessor_2),\n",
    "    (\"regressor\", LinearRegression()) \n",
    "])\n",
    "\n",
    "models = {\n",
    "    \"preprocessed\": lin_reg_1,\n",
    "    \"normal\": lin_reg_2,\n",
    "}"
   ]
  },
  {
   "cell_type": "code",
   "execution_count": 6,
   "metadata": {
    "tags": []
   },
   "outputs": [
    {
     "output_type": "stream",
     "name": "stdout",
     "text": "--------------------------------------RMSE--------------------------------------\npreprocessed: 1207.325241152875\nnormal: 1213.3749853057368\n"
    }
   ],
   "source": [
    "print(\"RMSE\".center(80, \"-\"))\n",
    "for model_name, model in models.items():\n",
    "    model.fit(X_train, y_train)\n",
    "    y_pred = model.predict(X_train)\n",
    "    rmse = np.sqrt(mean_squared_error(y_train, y_pred))\n",
    "    print(f\"{model_name}: {rmse}\")"
   ]
  },
  {
   "cell_type": "code",
   "execution_count": 7,
   "metadata": {},
   "outputs": [],
   "source": [
    "# Try other models, this time with k-fold cross validation\n",
    "from sklearn.model_selection import cross_val_score\n",
    "from sklearn.linear_model import Ridge\n",
    "from sklearn.neighbors import KNeighborsRegressor\n",
    "from sklearn.svm import SVR\n",
    "from sklearn.tree import DecisionTreeRegressor\n",
    "from sklearn.ensemble import RandomForestClassifier\n",
    "\n",
    "models = {\n",
    "    \"linear\": Pipeline([\n",
    "        (\"preprocessor\", preprocessor_1),\n",
    "        (\"regressor\", LinearRegression())\n",
    "        ]),\n",
    "\n",
    "    \"ridge\": Pipeline([\n",
    "        (\"preprocessor\", preprocessor_1),\n",
    "        (\"regressor\", Ridge())\n",
    "        ]),\n",
    "\n",
    "    \"kneighbors\": Pipeline([\n",
    "        (\"preprocessor\", preprocessor_1),\n",
    "        (\"regressor\", KNeighborsRegressor()) \n",
    "        ]),\n",
    "\n",
    "    \"tree\": Pipeline([\n",
    "        (\"preprocessor\", preprocessor_1),\n",
    "        (\"regressor\", DecisionTreeRegressor()) \n",
    "        ]),\n",
    "}"
   ]
  },
  {
   "cell_type": "code",
   "execution_count": 8,
   "metadata": {
    "tags": []
   },
   "outputs": [
    {
     "output_type": "stream",
     "name": "stdout",
     "text": "-------------------------------------linear-------------------------------------\nmean RMSE: 1262.24319811333\nstd RMSE: 125.46608457984283\n-------------------------------------ridge--------------------------------------\nmean RMSE: 1258.8673928680375\nstd RMSE: 118.91616355090899\n-----------------------------------kneighbors-----------------------------------\nmean RMSE: 737.6823173216465\nstd RMSE: 35.56898551605093\n--------------------------------------tree--------------------------------------\nmean RMSE: 766.3503902319837\nstd RMSE: 17.40123299277233\n"
    }
   ],
   "source": [
    "for model_name, model in models.items():\n",
    "    scores = cross_val_score(model, X_train, y_train, scoring=\"neg_root_mean_squared_error\", cv=5)\n",
    "    scores = -scores\n",
    "    print(f\"{model_name}\".center(80, \"-\"))\n",
    "    print(f\"mean RMSE: {scores.mean()}\")\n",
    "    print(f\"std RMSE: {scores.std()}\")"
   ]
  },
  {
   "cell_type": "code",
   "execution_count": 9,
   "metadata": {},
   "outputs": [],
   "source": [
    "from src.load import load_predict"
   ]
  },
  {
   "cell_type": "code",
   "execution_count": 10,
   "metadata": {},
   "outputs": [],
   "source": [
    "X_pred = load_predict()"
   ]
  },
  {
   "cell_type": "code",
   "execution_count": 11,
   "metadata": {},
   "outputs": [
    {
     "output_type": "execute_result",
     "data": {
      "text/plain": "       carat        cut color clarity  depth  table     x     y     z\nid                                                                   \n0       0.33  Very Good     I      IF   62.0   58.0  4.44  4.46  2.76\n1       1.21  Very Good     D     SI2   62.4   58.0  6.77  6.83  4.24\n2       1.06  Very Good     D     SI1   59.3   60.0  6.64  6.71  3.96\n3       0.36      Ideal     E    VVS1   61.4   57.0  4.64  4.61  2.54\n4       0.70      Ideal     E     VS1   62.3   54.0  5.67  5.72  3.55\n...      ...        ...   ...     ...    ...    ...   ...   ...   ...\n13480   2.04       Good     D     SI1   61.9   60.0  8.15  8.11  5.03\n13481   0.31      Ideal     G      IF   61.7   55.0  4.37  4.39  2.70\n13482   0.52      Ideal     D    VVS2   62.0   56.0  5.14  5.18  3.20\n13483   0.50    Premium     F     SI1   59.1   58.0  5.23  5.19  3.08\n13484   0.53  Very Good     G     SI2   63.4   55.0  5.10  5.19  3.26\n\n[13485 rows x 9 columns]",
      "text/html": "<div>\n<style scoped>\n    .dataframe tbody tr th:only-of-type {\n        vertical-align: middle;\n    }\n\n    .dataframe tbody tr th {\n        vertical-align: top;\n    }\n\n    .dataframe thead th {\n        text-align: right;\n    }\n</style>\n<table border=\"1\" class=\"dataframe\">\n  <thead>\n    <tr style=\"text-align: right;\">\n      <th></th>\n      <th>carat</th>\n      <th>cut</th>\n      <th>color</th>\n      <th>clarity</th>\n      <th>depth</th>\n      <th>table</th>\n      <th>x</th>\n      <th>y</th>\n      <th>z</th>\n    </tr>\n    <tr>\n      <th>id</th>\n      <th></th>\n      <th></th>\n      <th></th>\n      <th></th>\n      <th></th>\n      <th></th>\n      <th></th>\n      <th></th>\n      <th></th>\n    </tr>\n  </thead>\n  <tbody>\n    <tr>\n      <th>0</th>\n      <td>0.33</td>\n      <td>Very Good</td>\n      <td>I</td>\n      <td>IF</td>\n      <td>62.0</td>\n      <td>58.0</td>\n      <td>4.44</td>\n      <td>4.46</td>\n      <td>2.76</td>\n    </tr>\n    <tr>\n      <th>1</th>\n      <td>1.21</td>\n      <td>Very Good</td>\n      <td>D</td>\n      <td>SI2</td>\n      <td>62.4</td>\n      <td>58.0</td>\n      <td>6.77</td>\n      <td>6.83</td>\n      <td>4.24</td>\n    </tr>\n    <tr>\n      <th>2</th>\n      <td>1.06</td>\n      <td>Very Good</td>\n      <td>D</td>\n      <td>SI1</td>\n      <td>59.3</td>\n      <td>60.0</td>\n      <td>6.64</td>\n      <td>6.71</td>\n      <td>3.96</td>\n    </tr>\n    <tr>\n      <th>3</th>\n      <td>0.36</td>\n      <td>Ideal</td>\n      <td>E</td>\n      <td>VVS1</td>\n      <td>61.4</td>\n      <td>57.0</td>\n      <td>4.64</td>\n      <td>4.61</td>\n      <td>2.54</td>\n    </tr>\n    <tr>\n      <th>4</th>\n      <td>0.70</td>\n      <td>Ideal</td>\n      <td>E</td>\n      <td>VS1</td>\n      <td>62.3</td>\n      <td>54.0</td>\n      <td>5.67</td>\n      <td>5.72</td>\n      <td>3.55</td>\n    </tr>\n    <tr>\n      <th>...</th>\n      <td>...</td>\n      <td>...</td>\n      <td>...</td>\n      <td>...</td>\n      <td>...</td>\n      <td>...</td>\n      <td>...</td>\n      <td>...</td>\n      <td>...</td>\n    </tr>\n    <tr>\n      <th>13480</th>\n      <td>2.04</td>\n      <td>Good</td>\n      <td>D</td>\n      <td>SI1</td>\n      <td>61.9</td>\n      <td>60.0</td>\n      <td>8.15</td>\n      <td>8.11</td>\n      <td>5.03</td>\n    </tr>\n    <tr>\n      <th>13481</th>\n      <td>0.31</td>\n      <td>Ideal</td>\n      <td>G</td>\n      <td>IF</td>\n      <td>61.7</td>\n      <td>55.0</td>\n      <td>4.37</td>\n      <td>4.39</td>\n      <td>2.70</td>\n    </tr>\n    <tr>\n      <th>13482</th>\n      <td>0.52</td>\n      <td>Ideal</td>\n      <td>D</td>\n      <td>VVS2</td>\n      <td>62.0</td>\n      <td>56.0</td>\n      <td>5.14</td>\n      <td>5.18</td>\n      <td>3.20</td>\n    </tr>\n    <tr>\n      <th>13483</th>\n      <td>0.50</td>\n      <td>Premium</td>\n      <td>F</td>\n      <td>SI1</td>\n      <td>59.1</td>\n      <td>58.0</td>\n      <td>5.23</td>\n      <td>5.19</td>\n      <td>3.08</td>\n    </tr>\n    <tr>\n      <th>13484</th>\n      <td>0.53</td>\n      <td>Very Good</td>\n      <td>G</td>\n      <td>SI2</td>\n      <td>63.4</td>\n      <td>55.0</td>\n      <td>5.10</td>\n      <td>5.19</td>\n      <td>3.26</td>\n    </tr>\n  </tbody>\n</table>\n<p>13485 rows × 9 columns</p>\n</div>"
     },
     "metadata": {},
     "execution_count": 11
    }
   ],
   "source": [
    "X_pred"
   ]
  },
  {
   "cell_type": "code",
   "execution_count": 14,
   "metadata": {},
   "outputs": [
    {
     "output_type": "execute_result",
     "data": {
      "text/plain": "Pipeline(steps=[(&#39;preprocessor&#39;,\n                 ColumnTransformer(transformers=[(&#39;num&#39;, StandardScaler(),\n                                                  [&#39;carat&#39;, &#39;x&#39;, &#39;y&#39;, &#39;z&#39;]),\n                                                 (&#39;cat&#39;,\n                                                  OrdinalEncoder(categories=[[&#39;Fair&#39;,\n                                                                              &#39;Good&#39;,\n                                                                              &#39;Very &#39;\n                                                                              &#39;Good&#39;,\n                                                                              &#39;Premium&#39;,\n                                                                              &#39;Ideal&#39;],\n                                                                             [&#39;J&#39;,\n                                                                              &#39;I&#39;,\n                                                                              &#39;H&#39;,\n                                                                              &#39;G&#39;,\n                                                                              &#39;F&#39;,\n                                                                              &#39;E&#39;,\n                                                                              &#39;D&#39;],\n                                                                             [&#39;I1&#39;,\n                                                                              &#39;SI2&#39;,\n                                                                              &#39;SI1&#39;,\n                                                                              &#39;VS2&#39;,\n                                                                              &#39;VS1&#39;,\n                                                                              &#39;VVS2&#39;,\n                                                                              &#39;VVS1&#39;,\n                                                                              &#39;IF&#39;]]),\n                                                  [&#39;cut&#39;, &#39;color&#39;, &#39;clarity&#39;]),\n                                                 (&#39;depth&#39;,\n                                                  Pipeline(steps=[(&#39;cat_enc&#39;,\n                                                                   &lt;src.transfor...e9aa64ba60&gt;),\n                                                                  (&#39;ordinal_enc&#39;,\n                                                                   OrdinalEncoder(categories=[[&#39;Poor&#39;,\n                                                                                               &#39;Fair&#39;,\n                                                                                               &#39;Good&#39;,\n                                                                                               &#39;Very &#39;\n                                                                                               &#39;Good&#39;,\n                                                                                               &#39;Excellent&#39;]]))]),\n                                                  &#39;depth&#39;),\n                                                 (&#39;table&#39;,\n                                                  Pipeline(steps=[(&#39;cat_enc&#39;,\n                                                                   &lt;src.transformers.CatEncoder object at 0x7fe9aa64ba00&gt;),\n                                                                  (&#39;ordinal_enc&#39;,\n                                                                   OrdinalEncoder(categories=[[&#39;Poor&#39;,\n                                                                                               &#39;Fair&#39;,\n                                                                                               &#39;Good&#39;,\n                                                                                               &#39;Very &#39;\n                                                                                               &#39;Good&#39;,\n                                                                                               &#39;Excellent&#39;]]))]),\n                                                  &#39;table&#39;)])),\n                (&#39;regressor&#39;, KNeighborsRegressor())])"
     },
     "metadata": {},
     "execution_count": 14
    }
   ],
   "source": [
    "knn = models[\"kneighbors\"]\n",
    "knn.fit(X_train, y_train)"
   ]
  },
  {
   "cell_type": "code",
   "execution_count": 17,
   "metadata": {},
   "outputs": [],
   "source": [
    "import pandas as pd"
   ]
  },
  {
   "cell_type": "code",
   "execution_count": 32,
   "metadata": {},
   "outputs": [],
   "source": [
    "y_pred = pd.DataFrame(knn.predict(X_pred), columns=[\"price\"])\n",
    "y_pred.index.name = \"id\""
   ]
  },
  {
   "cell_type": "code",
   "execution_count": 34,
   "metadata": {},
   "outputs": [],
   "source": [
    "y_pred.to_csv(\"../submissions/submission-01.csv\")"
   ]
  },
  {
   "cell_type": "code",
   "execution_count": 33,
   "metadata": {},
   "outputs": [
    {
     "output_type": "execute_result",
     "data": {
      "text/plain": "         price\nid            \n0        882.4\n1       5160.2\n2       5577.2\n3       1008.6\n4       3307.2\n...        ...\n13480  16852.0\n13481    880.6\n13482   2715.4\n13483   1389.2\n13484   1084.4\n\n[13485 rows x 1 columns]",
      "text/html": "<div>\n<style scoped>\n    .dataframe tbody tr th:only-of-type {\n        vertical-align: middle;\n    }\n\n    .dataframe tbody tr th {\n        vertical-align: top;\n    }\n\n    .dataframe thead th {\n        text-align: right;\n    }\n</style>\n<table border=\"1\" class=\"dataframe\">\n  <thead>\n    <tr style=\"text-align: right;\">\n      <th></th>\n      <th>price</th>\n    </tr>\n    <tr>\n      <th>id</th>\n      <th></th>\n    </tr>\n  </thead>\n  <tbody>\n    <tr>\n      <th>0</th>\n      <td>882.4</td>\n    </tr>\n    <tr>\n      <th>1</th>\n      <td>5160.2</td>\n    </tr>\n    <tr>\n      <th>2</th>\n      <td>5577.2</td>\n    </tr>\n    <tr>\n      <th>3</th>\n      <td>1008.6</td>\n    </tr>\n    <tr>\n      <th>4</th>\n      <td>3307.2</td>\n    </tr>\n    <tr>\n      <th>...</th>\n      <td>...</td>\n    </tr>\n    <tr>\n      <th>13480</th>\n      <td>16852.0</td>\n    </tr>\n    <tr>\n      <th>13481</th>\n      <td>880.6</td>\n    </tr>\n    <tr>\n      <th>13482</th>\n      <td>2715.4</td>\n    </tr>\n    <tr>\n      <th>13483</th>\n      <td>1389.2</td>\n    </tr>\n    <tr>\n      <th>13484</th>\n      <td>1084.4</td>\n    </tr>\n  </tbody>\n</table>\n<p>13485 rows × 1 columns</p>\n</div>"
     },
     "metadata": {},
     "execution_count": 33
    }
   ],
   "source": [
    "y_pred"
   ]
  },
  {
   "cell_type": "code",
   "execution_count": null,
   "metadata": {},
   "outputs": [],
   "source": []
  }
 ]
}