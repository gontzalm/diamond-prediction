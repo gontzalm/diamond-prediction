{
 "metadata": {
  "language_info": {
   "codemirror_mode": {
    "name": "ipython",
    "version": 3
   },
   "file_extension": ".py",
   "mimetype": "text/x-python",
   "name": "python",
   "nbconvert_exporter": "python",
   "pygments_lexer": "ipython3",
   "version": "3.8.5-final"
  },
  "orig_nbformat": 2,
  "kernelspec": {
   "name": "Python 3.8.5 64-bit ('ih': conda)",
   "display_name": "Python 3.8.5 64-bit ('ih': conda)",
   "metadata": {
    "interpreter": {
     "hash": "db56cb6177e5951e88d6c3886ef9779f2cfb897b769aee449d1838a128c23dd7"
    }
   }
  }
 },
 "nbformat": 4,
 "nbformat_minor": 2,
 "cells": [
  {
   "cell_type": "code",
   "execution_count": 1,
   "metadata": {},
   "outputs": [],
   "source": [
    "import sys"
   ]
  },
  {
   "cell_type": "code",
   "execution_count": 2,
   "metadata": {},
   "outputs": [
    {
     "output_type": "execute_result",
     "data": {
      "text/plain": "[&#39;/home/gontz/ironhack/myprojects/diamond-prediction/notebooks&#39;,\n &#39;/home/gontz/.vscode/extensions/ms-python.python-2020.9.112786/pythonFiles/vscode_datascience_helpers/../.does-not-exist&#39;,\n &#39;/home/gontz/.vscode/extensions/ms-python.python-2020.9.112786/pythonFiles&#39;,\n &#39;/home/gontz/.vscode/extensions/ms-python.python-2020.9.112786/pythonFiles/lib/python&#39;,\n &#39;/home/gontz/miniconda3/envs/ih/lib/python38.zip&#39;,\n &#39;/home/gontz/miniconda3/envs/ih/lib/python3.8&#39;,\n &#39;/home/gontz/miniconda3/envs/ih/lib/python3.8/lib-dynload&#39;,\n &#39;&#39;,\n &#39;/home/gontz/miniconda3/envs/ih/lib/python3.8/site-packages&#39;,\n &#39;/home/gontz/miniconda3/envs/ih/lib/python3.8/site-packages/IPython/extensions&#39;,\n &#39;/home/gontz/.ipython&#39;]"
     },
     "metadata": {},
     "execution_count": 2
    }
   ],
   "source": [
    "sys.path"
   ]
  },
  {
   "cell_type": "code",
   "execution_count": 3,
   "metadata": {},
   "outputs": [
    {
     "output_type": "error",
     "ename": "ModuleNotFoundError",
     "evalue": "No module named &#39;src&#39;",
     "traceback": [
      "\u001b[0;31m---------------------------------------------------------------------------\u001b[0m",
      "\u001b[0;31mModuleNotFoundError\u001b[0m                       Traceback (most recent call last)",
      "\u001b[0;32m&lt;ipython-input-3-0df69d868bdd&gt;\u001b[0m in \u001b[0;36m&lt;module&gt;\u001b[0;34m\u001b[0m\n\u001b[0;32m----&gt; 1\u001b[0;31m \u001b[0;32mfrom\u001b[0m \u001b[0msrc\u001b[0m\u001b[0;34m.\u001b[0m\u001b[0mload\u001b[0m \u001b[0;32mimport\u001b[0m \u001b[0mload_diamonds\u001b[0m\u001b[0;34m\u001b[0m\u001b[0;34m\u001b[0m\u001b[0m\n\u001b[0m",
      "\u001b[0;31mModuleNotFoundError\u001b[0m: No module named &#39;src&#39;"
     ]
    }
   ],
   "source": [
    "from src.load import load_diamonds"
   ]
  },
  {
   "cell_type": "code",
   "execution_count": null,
   "metadata": {},
   "outputs": [],
   "source": []
  }
 ]
}